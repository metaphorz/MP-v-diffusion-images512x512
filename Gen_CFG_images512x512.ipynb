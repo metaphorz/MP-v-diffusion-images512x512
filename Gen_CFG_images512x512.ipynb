{
  "nbformat": 4,
  "nbformat_minor": 0,
  "metadata": {
    "colab": {
      "name": "Gen-CFG-images512x512.ipynb",
      "provenance": [],
      "collapsed_sections": [],
      "machine_shape": "hm"
    },
    "kernelspec": {
      "name": "python3",
      "display_name": "Python 3"
    },
    "language_info": {
      "name": "python"
    },
    "accelerator": "GPU"
  },
  "cells": [
    {
      "cell_type": "markdown",
      "source": [
        "## This notebook was forked and edited. The fork was from Katherine Crowson's v-diffusion-pytorch repository. The additions are:\n",
        "## P. Fishwick, 01/17/22\n",
        "1. Center installation in Google Drive by mounting it.\n",
        "2. First run: the installation - store in Drive\n",
        "3. First run: the pretrained model - store in Drive\n",
        "4. A loop over a range of skip_timestep (st) and seed values (bottom of notebook) -- this allows you to \"batch\" run the notebook to create multiple images. There is a --batch_size option in cfg_sample.py and this is NOT used.\n",
        "5. A collage option -- makes rectangular collages e.g. 3x3, 6x6, 4x7, 2x4\n",
        "6. Storing resulting images in a zip file and then downloading"
      ],
      "metadata": {
        "id": "kfsbjhr0GjMi"
      }
    },
    {
      "cell_type": "code",
      "source": [
        "# Load Google Drive\n",
        "from google.colab import drive\n",
        "drive.mount('/content/drive')"
      ],
      "metadata": {
        "colab": {
          "base_uri": "https://localhost:8080/"
        },
        "id": "cFfU7JXtB_GV",
        "outputId": "f848f034-292c-4ada-c1bd-082d2d7f2510"
      },
      "execution_count": null,
      "outputs": [
        {
          "output_type": "stream",
          "name": "stdout",
          "text": [
            "Drive already mounted at /content/drive; to attempt to forcibly remount, call drive.mount(\"/content/drive\", force_remount=True).\n"
          ]
        }
      ]
    },
    {
      "cell_type": "code",
      "source": [
        "#\n",
        "# discover the assigned GPU\n",
        "#\n",
        "!nvidia-smi"
      ],
      "metadata": {
        "colab": {
          "base_uri": "https://localhost:8080/"
        },
        "id": "n5MnJSsDaU8p",
        "outputId": "f92cb187-7f33-4a0c-e927-16ca5992cca4"
      },
      "execution_count": null,
      "outputs": [
        {
          "output_type": "stream",
          "name": "stdout",
          "text": []
        }
      ]
    },
    {
      "cell_type": "code",
      "source": [
        "# install requirements\n",
        "!pip install ftfy regex requests tqdm"
      ],
      "metadata": {
        "colab": {
          "base_uri": "https://localhost:8080/"
        },
        "id": "u3alYfr8aYdr",
        "outputId": "bcadea43-8631-4efa-cfbf-1e60a0c9d50b"
      },
      "execution_count": null,
      "outputs": [
        {
          "output_type": "stream",
          "name": "stdout",
          "text": []
        }
      ]
    },
    {
      "cell_type": "code",
      "execution_count": null,
      "metadata": {
        "id": "_rndN6sXYsRg"
      },
      "outputs": [],
      "source": [
        "# obtain v-diffusion-pytorch\n",
        "# run this one time\n",
        "import os\n",
        "if (not os.path.isdir('/content/drive/MyDrive/v-diffusion-pytorch')):\n",
        "  !git clone --recursive https://github.com/metaphorz/v-diffusion-pytorch /content/drive/MyDrive/v-diffusion-pytorch"
      ]
    },
    {
      "cell_type": "code",
      "source": [
        "#\n",
        "# Download the diffusion model\n",
        "# The model list (checkpoints) can be found https://github.com/crowsonkb/v-diffusion-pytorch#model-checkpoints\n",
        "# SHA-256: 4fc95ee1b3205a3f7422a07746383776e1dbc367eaf06a5b658ad351e77b7bda\n",
        "#\n",
        "# Save pretrained model in Google Drive for first run (v-diffusion-pytorch/ should not exist)\n",
        "import os\n",
        "if (not os.path.isdir('/content/drive/MyDrive/v-diffusion-pytorch/checkpoints')):\n",
        "  !mkdir /content/drive/MyDrive/v-diffusion-pytorch/checkpoints\n",
        "  !curl -L https://v-diffusion.s3.us-west-2.amazonaws.com/cc12m_1_cfg.pth > /content/drive/MyDrive/v-diffusion-pytorch/checkpoints/cc12m_1_cfg.pth\n",
        "# From original \n",
        "# !curl -L https://v-diffusion.s3.us-west-2.amazonaws.com/cc12m_1_cfg.pth > /content/drive/MyDrive/v-diffusion-pytorch/checkpoints/cc12m_1_cfg.pth"
      ],
      "metadata": {
        "id": "igMHf8BdcBmz"
      },
      "execution_count": null,
      "outputs": []
    },
    {
      "cell_type": "code",
      "source": [
        "%cd /content/drive/MyDrive/v-diffusion-pytorch/"
      ],
      "metadata": {
        "colab": {
          "base_uri": "https://localhost:8080/"
        },
        "id": "sQhDMRNac4RV",
        "outputId": "673059f2-f14c-4c78-af01-76ec131c0ed5"
      },
      "execution_count": null,
      "outputs": [
        {
          "output_type": "stream",
          "name": "stdout",
          "text": []
        }
      ]
    },
    {
      "cell_type": "code",
      "source": [
        "# Run inference loop given the init image for each st and seed value\n",
        "# Edit the st and range values\n",
        "import numpy as np\n",
        "#creates 36 values for seed\n",
        "#st_start = 0.1\n",
        "#st_stop = 1.0\n",
        "#st_step = 0.025\n",
        "#creates 1 st value\n",
        "st_start = 0.975\n",
        "st_stop = 1.0\n",
        "st_step = 0.5\n",
        "float_range_array = np.arange(st_start, st_stop, st_step)\n",
        "st_values = list(float_range_array)\n",
        "print('# of st_values ', len(st_values))\n",
        "print('# of seeds ', len(range(0,36)))\n",
        "print('# of generated images ', len(st_values)*len(range(0,36)))\n",
        "print('Image Generation ...')\n",
        "for st_num in st_values:\n",
        "  for seed_num in range(0,36):\n",
        "    # enter your own init image\n",
        "    !python cfg_sample.py --init /content/drive/MyDrive/images/image3.jpg --batch-size 1 -st $st_num --size 512 512 --seed $seed_num"
      ],
      "metadata": {
        "colab": {
          "base_uri": "https://localhost:8080/"
        },
        "id": "BFWNudcQZFKM",
        "outputId": "a246280b-321d-4fce-bb0b-7851d256d941"
      },
      "execution_count": null,
      "outputs": [
        {
          "output_type": "stream",
          "name": "stdout",
          "text": []
        }
      ]
    },
    {
      "cell_type": "code",
      "source": [
        "# save all images in a zip\n",
        "!zip results/images.zip results/*.png"
      ],
      "metadata": {
        "id": "0sp3wdUSf3fi"
      },
      "execution_count": null,
      "outputs": []
    },
    {
      "cell_type": "code",
      "source": [
        "# download images.zip\n",
        "from google.colab import files\n",
        "files.download('results/images.zip')"
      ],
      "metadata": {
        "id": "W3W81jhlk7G4"
      },
      "execution_count": null,
      "outputs": []
    },
    {
      "cell_type": "code",
      "source": [
        "# Optional: Google Drive results/ cleaning\n",
        "# clean your results folder between notebook runs\n",
        "# once images.zip has downloaded\n",
        "#!rm /content/drive/MyDrive/v-diffusion-pytorch/results/images.zip\n",
        "#!rm /content/drive/MyDrive/v-diffusion-pytorch/results/*.png"
      ],
      "metadata": {
        "id": "iBW4Mn2GO-8N"
      },
      "execution_count": null,
      "outputs": []
    },
    {
      "cell_type": "code",
      "source": [
        "%cd /content/drive/MyDrive/v-diffusion-pytorch/results"
      ],
      "metadata": {
        "id": "-E4OHTZhRo-J"
      },
      "execution_count": null,
      "outputs": []
    },
    {
      "cell_type": "code",
      "source": [
        "# Optional/Experimental: Generate a collage of all images\n",
        "# and store in v-diffusion-pytorch/\n",
        "# Code adapted from: https://holypython.com/python-pil-tutorial/creating-photo-collages/\n",
        "\n",
        "from PIL import Image, ImageDraw\n",
        "import glob\n",
        "lst = sorted(glob.glob(\"*.png\"))\n",
        "print('check list length ',len(lst))\n",
        "# to make the collage, you need num_x * num_y .png files\n",
        "# need not be square\n",
        "# 9 images to make a 3x3 collage\n",
        "# 36 images to make a 6x6 collage\n",
        "# 500 pixels for each side of square component images\n",
        "num_x = 6\n",
        "num_y = 6\n",
        "# choose this to modify the size of each square in the collage\n",
        "side_square = 200 \n",
        "\n",
        "collage = Image.new(\"RGBA\", (side_square*num_x,side_square*num_y), color=(255,255,255,255))\n",
        "\n",
        "file_num = 0\n",
        "for j in range(0,num_y*side_square,side_square):\n",
        "    for i in range(0,num_x*side_square,side_square):\n",
        "        image_file = str(lst[file_num])\n",
        "        photo = Image.open(image_file).convert(\"RGBA\")\n",
        "        photo = photo.resize((side_square,side_square))          \n",
        "        collage.paste(photo, (i,j))\n",
        "        file_num += 1\n",
        "\n",
        "display(collage)\n",
        "collage.save(\"/content/drive/MyDrive/v-diffusion-pytorch/collage.png\")\n"
      ],
      "metadata": {
        "id": "HLLmTSu-RVcQ"
      },
      "execution_count": null,
      "outputs": []
    }
  ]
}
